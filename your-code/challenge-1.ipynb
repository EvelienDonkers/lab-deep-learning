{
 "cells": [
  {
   "cell_type": "code",
   "execution_count": 62,
   "metadata": {},
   "outputs": [],
   "source": [
    "import pandas as pd\n",
    "from sklearn import preprocessing\n",
    "from sklearn.preprocessing import LabelEncoder\n",
    "from sklearn.preprocessing import Normalizer\n",
    "from sklearn.preprocessing import PolynomialFeatures, StandardScaler\n",
    "from sklearn.model_selection import train_test_split\n",
    "from keras.models import Sequential\n",
    "from keras.layers import Dense\n",
    "from keras.utils import to_categorical\n",
    "import tensorflow as tf\n",
    "import tensorflow.keras as keras\n",
    "import numpy as np"
   ]
  },
  {
   "cell_type": "code",
   "execution_count": 20,
   "metadata": {},
   "outputs": [],
   "source": [
    "def explore_data(df):\n",
    "    # this function applies many exploratory techniques to a given dataframe\n",
    "    display(\"Head\",\n",
    "            df.head()\n",
    "            .style\n",
    "            .background_gradient(cmap='Blues')\n",
    "           )\n",
    "    display(\"Data Types\",\n",
    "            df.dtypes\n",
    "            .to_frame()\n",
    "           )\n",
    "    display(\"Data Types Count\",\n",
    "            df.dtypes\n",
    "            .to_frame()[0]\n",
    "            .value_counts()\n",
    "            .to_frame()\n",
    "           )\n",
    "    display(\"Nan Values per Column\",\n",
    "            df.isna()\n",
    "            .sum()\n",
    "            .to_frame()\n",
    "            .sort_values(by=[0], ascending=False)\n",
    "           )\n",
    "    display(\"Descriptive Statistics\",\n",
    "            df.describe()\n",
    "           )\n",
    "    display(\"Correlation Matrix\",\n",
    "            df.corr()\n",
    "            .style.background_gradient(cmap='coolwarm')\n",
    "            .set_precision(2)\n",
    "           )"
   ]
  },
  {
   "cell_type": "markdown",
   "metadata": {},
   "source": [
    "# Challenge 1 - Tic Tac Toe\n",
    "\n",
    "In this lab you will perform deep learning analysis on a dataset of playing [Tic Tac Toe](https://en.wikipedia.org/wiki/Tic-tac-toe).\n",
    "\n",
    "There are 9 grids in Tic Tac Toe that are coded as the following picture shows:\n",
    "\n",
    "![Tic Tac Toe Grids](tttboard.jpg)\n",
    "\n",
    "In the first 9 columns of the dataset you can find which marks (`x` or `o`) exist in the grids. If there is no mark in a certain grid, it is labeled as `b`. The last column is `class` which tells you whether Player X (who always moves first in Tic Tac Toe) wins in this configuration. Note that when `class` has the value `False`, it means either Player O wins the game or it ends up as a draw."
   ]
  },
  {
   "cell_type": "markdown",
   "metadata": {},
   "source": [
    "Follow the steps suggested below to conduct a neural network analysis using Tensorflow and Keras. You will build a deep learning model to predict whether Player X wins the game or not.\n",
    "\n",
    "## Step 1: Data Engineering\n",
    "\n",
    "This dataset is almost in the ready-to-use state so you do not need to worry about missing values and so on. Still, some simple data engineering is needed.\n",
    "\n",
    "1. Read `tic-tac-toe.csv` into a dataframe.\n",
    "1. Inspect the dataset. Determine if the dataset is reliable by eyeballing the data.\n",
    "1. Convert the categorical values to numeric in all columns.\n",
    "1. Separate the inputs and output.\n",
    "1. Normalize the input data."
   ]
  },
  {
   "cell_type": "code",
   "execution_count": 43,
   "metadata": {
    "scrolled": true
   },
   "outputs": [
    {
     "data": {
      "text/plain": [
       "'Head'"
      ]
     },
     "metadata": {},
     "output_type": "display_data"
    },
    {
     "data": {
      "text/html": [
       "<style  type=\"text/css\" >\n",
       "</style><table id=\"T_58e0a9c2_1b6d_11ea_93ac_14abc5ed6a0b\" ><thead>    <tr>        <th class=\"blank level0\" ></th>        <th class=\"col_heading level0 col0\" >TL</th>        <th class=\"col_heading level0 col1\" >TM</th>        <th class=\"col_heading level0 col2\" >TR</th>        <th class=\"col_heading level0 col3\" >ML</th>        <th class=\"col_heading level0 col4\" >MM</th>        <th class=\"col_heading level0 col5\" >MR</th>        <th class=\"col_heading level0 col6\" >BL</th>        <th class=\"col_heading level0 col7\" >BM</th>        <th class=\"col_heading level0 col8\" >BR</th>        <th class=\"col_heading level0 col9\" >class</th>    </tr></thead><tbody>\n",
       "                <tr>\n",
       "                        <th id=\"T_58e0a9c2_1b6d_11ea_93ac_14abc5ed6a0blevel0_row0\" class=\"row_heading level0 row0\" >0</th>\n",
       "                        <td id=\"T_58e0a9c2_1b6d_11ea_93ac_14abc5ed6a0brow0_col0\" class=\"data row0 col0\" >x</td>\n",
       "                        <td id=\"T_58e0a9c2_1b6d_11ea_93ac_14abc5ed6a0brow0_col1\" class=\"data row0 col1\" >x</td>\n",
       "                        <td id=\"T_58e0a9c2_1b6d_11ea_93ac_14abc5ed6a0brow0_col2\" class=\"data row0 col2\" >x</td>\n",
       "                        <td id=\"T_58e0a9c2_1b6d_11ea_93ac_14abc5ed6a0brow0_col3\" class=\"data row0 col3\" >x</td>\n",
       "                        <td id=\"T_58e0a9c2_1b6d_11ea_93ac_14abc5ed6a0brow0_col4\" class=\"data row0 col4\" >o</td>\n",
       "                        <td id=\"T_58e0a9c2_1b6d_11ea_93ac_14abc5ed6a0brow0_col5\" class=\"data row0 col5\" >o</td>\n",
       "                        <td id=\"T_58e0a9c2_1b6d_11ea_93ac_14abc5ed6a0brow0_col6\" class=\"data row0 col6\" >x</td>\n",
       "                        <td id=\"T_58e0a9c2_1b6d_11ea_93ac_14abc5ed6a0brow0_col7\" class=\"data row0 col7\" >o</td>\n",
       "                        <td id=\"T_58e0a9c2_1b6d_11ea_93ac_14abc5ed6a0brow0_col8\" class=\"data row0 col8\" >o</td>\n",
       "                        <td id=\"T_58e0a9c2_1b6d_11ea_93ac_14abc5ed6a0brow0_col9\" class=\"data row0 col9\" >True</td>\n",
       "            </tr>\n",
       "            <tr>\n",
       "                        <th id=\"T_58e0a9c2_1b6d_11ea_93ac_14abc5ed6a0blevel0_row1\" class=\"row_heading level0 row1\" >1</th>\n",
       "                        <td id=\"T_58e0a9c2_1b6d_11ea_93ac_14abc5ed6a0brow1_col0\" class=\"data row1 col0\" >x</td>\n",
       "                        <td id=\"T_58e0a9c2_1b6d_11ea_93ac_14abc5ed6a0brow1_col1\" class=\"data row1 col1\" >x</td>\n",
       "                        <td id=\"T_58e0a9c2_1b6d_11ea_93ac_14abc5ed6a0brow1_col2\" class=\"data row1 col2\" >x</td>\n",
       "                        <td id=\"T_58e0a9c2_1b6d_11ea_93ac_14abc5ed6a0brow1_col3\" class=\"data row1 col3\" >x</td>\n",
       "                        <td id=\"T_58e0a9c2_1b6d_11ea_93ac_14abc5ed6a0brow1_col4\" class=\"data row1 col4\" >o</td>\n",
       "                        <td id=\"T_58e0a9c2_1b6d_11ea_93ac_14abc5ed6a0brow1_col5\" class=\"data row1 col5\" >o</td>\n",
       "                        <td id=\"T_58e0a9c2_1b6d_11ea_93ac_14abc5ed6a0brow1_col6\" class=\"data row1 col6\" >o</td>\n",
       "                        <td id=\"T_58e0a9c2_1b6d_11ea_93ac_14abc5ed6a0brow1_col7\" class=\"data row1 col7\" >x</td>\n",
       "                        <td id=\"T_58e0a9c2_1b6d_11ea_93ac_14abc5ed6a0brow1_col8\" class=\"data row1 col8\" >o</td>\n",
       "                        <td id=\"T_58e0a9c2_1b6d_11ea_93ac_14abc5ed6a0brow1_col9\" class=\"data row1 col9\" >True</td>\n",
       "            </tr>\n",
       "            <tr>\n",
       "                        <th id=\"T_58e0a9c2_1b6d_11ea_93ac_14abc5ed6a0blevel0_row2\" class=\"row_heading level0 row2\" >2</th>\n",
       "                        <td id=\"T_58e0a9c2_1b6d_11ea_93ac_14abc5ed6a0brow2_col0\" class=\"data row2 col0\" >x</td>\n",
       "                        <td id=\"T_58e0a9c2_1b6d_11ea_93ac_14abc5ed6a0brow2_col1\" class=\"data row2 col1\" >x</td>\n",
       "                        <td id=\"T_58e0a9c2_1b6d_11ea_93ac_14abc5ed6a0brow2_col2\" class=\"data row2 col2\" >x</td>\n",
       "                        <td id=\"T_58e0a9c2_1b6d_11ea_93ac_14abc5ed6a0brow2_col3\" class=\"data row2 col3\" >x</td>\n",
       "                        <td id=\"T_58e0a9c2_1b6d_11ea_93ac_14abc5ed6a0brow2_col4\" class=\"data row2 col4\" >o</td>\n",
       "                        <td id=\"T_58e0a9c2_1b6d_11ea_93ac_14abc5ed6a0brow2_col5\" class=\"data row2 col5\" >o</td>\n",
       "                        <td id=\"T_58e0a9c2_1b6d_11ea_93ac_14abc5ed6a0brow2_col6\" class=\"data row2 col6\" >o</td>\n",
       "                        <td id=\"T_58e0a9c2_1b6d_11ea_93ac_14abc5ed6a0brow2_col7\" class=\"data row2 col7\" >o</td>\n",
       "                        <td id=\"T_58e0a9c2_1b6d_11ea_93ac_14abc5ed6a0brow2_col8\" class=\"data row2 col8\" >x</td>\n",
       "                        <td id=\"T_58e0a9c2_1b6d_11ea_93ac_14abc5ed6a0brow2_col9\" class=\"data row2 col9\" >True</td>\n",
       "            </tr>\n",
       "            <tr>\n",
       "                        <th id=\"T_58e0a9c2_1b6d_11ea_93ac_14abc5ed6a0blevel0_row3\" class=\"row_heading level0 row3\" >3</th>\n",
       "                        <td id=\"T_58e0a9c2_1b6d_11ea_93ac_14abc5ed6a0brow3_col0\" class=\"data row3 col0\" >x</td>\n",
       "                        <td id=\"T_58e0a9c2_1b6d_11ea_93ac_14abc5ed6a0brow3_col1\" class=\"data row3 col1\" >x</td>\n",
       "                        <td id=\"T_58e0a9c2_1b6d_11ea_93ac_14abc5ed6a0brow3_col2\" class=\"data row3 col2\" >x</td>\n",
       "                        <td id=\"T_58e0a9c2_1b6d_11ea_93ac_14abc5ed6a0brow3_col3\" class=\"data row3 col3\" >x</td>\n",
       "                        <td id=\"T_58e0a9c2_1b6d_11ea_93ac_14abc5ed6a0brow3_col4\" class=\"data row3 col4\" >o</td>\n",
       "                        <td id=\"T_58e0a9c2_1b6d_11ea_93ac_14abc5ed6a0brow3_col5\" class=\"data row3 col5\" >o</td>\n",
       "                        <td id=\"T_58e0a9c2_1b6d_11ea_93ac_14abc5ed6a0brow3_col6\" class=\"data row3 col6\" >o</td>\n",
       "                        <td id=\"T_58e0a9c2_1b6d_11ea_93ac_14abc5ed6a0brow3_col7\" class=\"data row3 col7\" >b</td>\n",
       "                        <td id=\"T_58e0a9c2_1b6d_11ea_93ac_14abc5ed6a0brow3_col8\" class=\"data row3 col8\" >b</td>\n",
       "                        <td id=\"T_58e0a9c2_1b6d_11ea_93ac_14abc5ed6a0brow3_col9\" class=\"data row3 col9\" >True</td>\n",
       "            </tr>\n",
       "            <tr>\n",
       "                        <th id=\"T_58e0a9c2_1b6d_11ea_93ac_14abc5ed6a0blevel0_row4\" class=\"row_heading level0 row4\" >4</th>\n",
       "                        <td id=\"T_58e0a9c2_1b6d_11ea_93ac_14abc5ed6a0brow4_col0\" class=\"data row4 col0\" >x</td>\n",
       "                        <td id=\"T_58e0a9c2_1b6d_11ea_93ac_14abc5ed6a0brow4_col1\" class=\"data row4 col1\" >x</td>\n",
       "                        <td id=\"T_58e0a9c2_1b6d_11ea_93ac_14abc5ed6a0brow4_col2\" class=\"data row4 col2\" >x</td>\n",
       "                        <td id=\"T_58e0a9c2_1b6d_11ea_93ac_14abc5ed6a0brow4_col3\" class=\"data row4 col3\" >x</td>\n",
       "                        <td id=\"T_58e0a9c2_1b6d_11ea_93ac_14abc5ed6a0brow4_col4\" class=\"data row4 col4\" >o</td>\n",
       "                        <td id=\"T_58e0a9c2_1b6d_11ea_93ac_14abc5ed6a0brow4_col5\" class=\"data row4 col5\" >o</td>\n",
       "                        <td id=\"T_58e0a9c2_1b6d_11ea_93ac_14abc5ed6a0brow4_col6\" class=\"data row4 col6\" >b</td>\n",
       "                        <td id=\"T_58e0a9c2_1b6d_11ea_93ac_14abc5ed6a0brow4_col7\" class=\"data row4 col7\" >o</td>\n",
       "                        <td id=\"T_58e0a9c2_1b6d_11ea_93ac_14abc5ed6a0brow4_col8\" class=\"data row4 col8\" >b</td>\n",
       "                        <td id=\"T_58e0a9c2_1b6d_11ea_93ac_14abc5ed6a0brow4_col9\" class=\"data row4 col9\" >True</td>\n",
       "            </tr>\n",
       "    </tbody></table>"
      ],
      "text/plain": [
       "<pandas.io.formats.style.Styler at 0x178f67da4e0>"
      ]
     },
     "metadata": {},
     "output_type": "display_data"
    },
    {
     "data": {
      "text/plain": [
       "'Data Types'"
      ]
     },
     "metadata": {},
     "output_type": "display_data"
    },
    {
     "data": {
      "text/html": [
       "<div>\n",
       "<style scoped>\n",
       "    .dataframe tbody tr th:only-of-type {\n",
       "        vertical-align: middle;\n",
       "    }\n",
       "\n",
       "    .dataframe tbody tr th {\n",
       "        vertical-align: top;\n",
       "    }\n",
       "\n",
       "    .dataframe thead th {\n",
       "        text-align: right;\n",
       "    }\n",
       "</style>\n",
       "<table border=\"1\" class=\"dataframe\">\n",
       "  <thead>\n",
       "    <tr style=\"text-align: right;\">\n",
       "      <th></th>\n",
       "      <th>0</th>\n",
       "    </tr>\n",
       "  </thead>\n",
       "  <tbody>\n",
       "    <tr>\n",
       "      <th>TL</th>\n",
       "      <td>object</td>\n",
       "    </tr>\n",
       "    <tr>\n",
       "      <th>TM</th>\n",
       "      <td>object</td>\n",
       "    </tr>\n",
       "    <tr>\n",
       "      <th>TR</th>\n",
       "      <td>object</td>\n",
       "    </tr>\n",
       "    <tr>\n",
       "      <th>ML</th>\n",
       "      <td>object</td>\n",
       "    </tr>\n",
       "    <tr>\n",
       "      <th>MM</th>\n",
       "      <td>object</td>\n",
       "    </tr>\n",
       "    <tr>\n",
       "      <th>MR</th>\n",
       "      <td>object</td>\n",
       "    </tr>\n",
       "    <tr>\n",
       "      <th>BL</th>\n",
       "      <td>object</td>\n",
       "    </tr>\n",
       "    <tr>\n",
       "      <th>BM</th>\n",
       "      <td>object</td>\n",
       "    </tr>\n",
       "    <tr>\n",
       "      <th>BR</th>\n",
       "      <td>object</td>\n",
       "    </tr>\n",
       "    <tr>\n",
       "      <th>class</th>\n",
       "      <td>bool</td>\n",
       "    </tr>\n",
       "  </tbody>\n",
       "</table>\n",
       "</div>"
      ],
      "text/plain": [
       "            0\n",
       "TL     object\n",
       "TM     object\n",
       "TR     object\n",
       "ML     object\n",
       "MM     object\n",
       "MR     object\n",
       "BL     object\n",
       "BM     object\n",
       "BR     object\n",
       "class    bool"
      ]
     },
     "metadata": {},
     "output_type": "display_data"
    },
    {
     "data": {
      "text/plain": [
       "'Data Types Count'"
      ]
     },
     "metadata": {},
     "output_type": "display_data"
    },
    {
     "data": {
      "text/html": [
       "<div>\n",
       "<style scoped>\n",
       "    .dataframe tbody tr th:only-of-type {\n",
       "        vertical-align: middle;\n",
       "    }\n",
       "\n",
       "    .dataframe tbody tr th {\n",
       "        vertical-align: top;\n",
       "    }\n",
       "\n",
       "    .dataframe thead th {\n",
       "        text-align: right;\n",
       "    }\n",
       "</style>\n",
       "<table border=\"1\" class=\"dataframe\">\n",
       "  <thead>\n",
       "    <tr style=\"text-align: right;\">\n",
       "      <th></th>\n",
       "      <th>0</th>\n",
       "    </tr>\n",
       "  </thead>\n",
       "  <tbody>\n",
       "    <tr>\n",
       "      <th>object</th>\n",
       "      <td>9</td>\n",
       "    </tr>\n",
       "    <tr>\n",
       "      <th>bool</th>\n",
       "      <td>1</td>\n",
       "    </tr>\n",
       "  </tbody>\n",
       "</table>\n",
       "</div>"
      ],
      "text/plain": [
       "        0\n",
       "object  9\n",
       "bool    1"
      ]
     },
     "metadata": {},
     "output_type": "display_data"
    },
    {
     "data": {
      "text/plain": [
       "'Nan Values per Column'"
      ]
     },
     "metadata": {},
     "output_type": "display_data"
    },
    {
     "data": {
      "text/html": [
       "<div>\n",
       "<style scoped>\n",
       "    .dataframe tbody tr th:only-of-type {\n",
       "        vertical-align: middle;\n",
       "    }\n",
       "\n",
       "    .dataframe tbody tr th {\n",
       "        vertical-align: top;\n",
       "    }\n",
       "\n",
       "    .dataframe thead th {\n",
       "        text-align: right;\n",
       "    }\n",
       "</style>\n",
       "<table border=\"1\" class=\"dataframe\">\n",
       "  <thead>\n",
       "    <tr style=\"text-align: right;\">\n",
       "      <th></th>\n",
       "      <th>0</th>\n",
       "    </tr>\n",
       "  </thead>\n",
       "  <tbody>\n",
       "    <tr>\n",
       "      <th>TL</th>\n",
       "      <td>0</td>\n",
       "    </tr>\n",
       "    <tr>\n",
       "      <th>TM</th>\n",
       "      <td>0</td>\n",
       "    </tr>\n",
       "    <tr>\n",
       "      <th>TR</th>\n",
       "      <td>0</td>\n",
       "    </tr>\n",
       "    <tr>\n",
       "      <th>ML</th>\n",
       "      <td>0</td>\n",
       "    </tr>\n",
       "    <tr>\n",
       "      <th>MM</th>\n",
       "      <td>0</td>\n",
       "    </tr>\n",
       "    <tr>\n",
       "      <th>MR</th>\n",
       "      <td>0</td>\n",
       "    </tr>\n",
       "    <tr>\n",
       "      <th>BL</th>\n",
       "      <td>0</td>\n",
       "    </tr>\n",
       "    <tr>\n",
       "      <th>BM</th>\n",
       "      <td>0</td>\n",
       "    </tr>\n",
       "    <tr>\n",
       "      <th>BR</th>\n",
       "      <td>0</td>\n",
       "    </tr>\n",
       "    <tr>\n",
       "      <th>class</th>\n",
       "      <td>0</td>\n",
       "    </tr>\n",
       "  </tbody>\n",
       "</table>\n",
       "</div>"
      ],
      "text/plain": [
       "       0\n",
       "TL     0\n",
       "TM     0\n",
       "TR     0\n",
       "ML     0\n",
       "MM     0\n",
       "MR     0\n",
       "BL     0\n",
       "BM     0\n",
       "BR     0\n",
       "class  0"
      ]
     },
     "metadata": {},
     "output_type": "display_data"
    },
    {
     "data": {
      "text/plain": [
       "'Descriptive Statistics'"
      ]
     },
     "metadata": {},
     "output_type": "display_data"
    },
    {
     "data": {
      "text/html": [
       "<div>\n",
       "<style scoped>\n",
       "    .dataframe tbody tr th:only-of-type {\n",
       "        vertical-align: middle;\n",
       "    }\n",
       "\n",
       "    .dataframe tbody tr th {\n",
       "        vertical-align: top;\n",
       "    }\n",
       "\n",
       "    .dataframe thead th {\n",
       "        text-align: right;\n",
       "    }\n",
       "</style>\n",
       "<table border=\"1\" class=\"dataframe\">\n",
       "  <thead>\n",
       "    <tr style=\"text-align: right;\">\n",
       "      <th></th>\n",
       "      <th>TL</th>\n",
       "      <th>TM</th>\n",
       "      <th>TR</th>\n",
       "      <th>ML</th>\n",
       "      <th>MM</th>\n",
       "      <th>MR</th>\n",
       "      <th>BL</th>\n",
       "      <th>BM</th>\n",
       "      <th>BR</th>\n",
       "      <th>class</th>\n",
       "    </tr>\n",
       "  </thead>\n",
       "  <tbody>\n",
       "    <tr>\n",
       "      <th>count</th>\n",
       "      <td>958</td>\n",
       "      <td>958</td>\n",
       "      <td>958</td>\n",
       "      <td>958</td>\n",
       "      <td>958</td>\n",
       "      <td>958</td>\n",
       "      <td>958</td>\n",
       "      <td>958</td>\n",
       "      <td>958</td>\n",
       "      <td>958</td>\n",
       "    </tr>\n",
       "    <tr>\n",
       "      <th>unique</th>\n",
       "      <td>3</td>\n",
       "      <td>3</td>\n",
       "      <td>3</td>\n",
       "      <td>3</td>\n",
       "      <td>3</td>\n",
       "      <td>3</td>\n",
       "      <td>3</td>\n",
       "      <td>3</td>\n",
       "      <td>3</td>\n",
       "      <td>2</td>\n",
       "    </tr>\n",
       "    <tr>\n",
       "      <th>top</th>\n",
       "      <td>x</td>\n",
       "      <td>x</td>\n",
       "      <td>x</td>\n",
       "      <td>x</td>\n",
       "      <td>x</td>\n",
       "      <td>x</td>\n",
       "      <td>x</td>\n",
       "      <td>x</td>\n",
       "      <td>x</td>\n",
       "      <td>True</td>\n",
       "    </tr>\n",
       "    <tr>\n",
       "      <th>freq</th>\n",
       "      <td>418</td>\n",
       "      <td>378</td>\n",
       "      <td>418</td>\n",
       "      <td>378</td>\n",
       "      <td>458</td>\n",
       "      <td>378</td>\n",
       "      <td>418</td>\n",
       "      <td>378</td>\n",
       "      <td>418</td>\n",
       "      <td>626</td>\n",
       "    </tr>\n",
       "  </tbody>\n",
       "</table>\n",
       "</div>"
      ],
      "text/plain": [
       "         TL   TM   TR   ML   MM   MR   BL   BM   BR class\n",
       "count   958  958  958  958  958  958  958  958  958   958\n",
       "unique    3    3    3    3    3    3    3    3    3     2\n",
       "top       x    x    x    x    x    x    x    x    x  True\n",
       "freq    418  378  418  378  458  378  418  378  418   626"
      ]
     },
     "metadata": {},
     "output_type": "display_data"
    },
    {
     "data": {
      "text/plain": [
       "'Correlation Matrix'"
      ]
     },
     "metadata": {},
     "output_type": "display_data"
    },
    {
     "data": {
      "text/html": [
       "<style  type=\"text/css\" >\n",
       "    #T_58eb5092_1b6d_11ea_bfe0_14abc5ed6a0brow0_col0 {\n",
       "            background-color:  #3b4cc0;\n",
       "            color:  #f1f1f1;\n",
       "        }</style><table id=\"T_58eb5092_1b6d_11ea_bfe0_14abc5ed6a0b\" ><thead>    <tr>        <th class=\"blank level0\" ></th>        <th class=\"col_heading level0 col0\" >class</th>    </tr></thead><tbody>\n",
       "                <tr>\n",
       "                        <th id=\"T_58eb5092_1b6d_11ea_bfe0_14abc5ed6a0blevel0_row0\" class=\"row_heading level0 row0\" >class</th>\n",
       "                        <td id=\"T_58eb5092_1b6d_11ea_bfe0_14abc5ed6a0brow0_col0\" class=\"data row0 col0\" >1</td>\n",
       "            </tr>\n",
       "    </tbody></table>"
      ],
      "text/plain": [
       "<pandas.io.formats.style.Styler at 0x178f64cb4e0>"
      ]
     },
     "metadata": {},
     "output_type": "display_data"
    }
   ],
   "source": [
    "df = ds = pd.read_csv('tic-tac-toe.csv')\n",
    "explore_data(df)"
   ]
  },
  {
   "cell_type": "code",
   "execution_count": 68,
   "metadata": {},
   "outputs": [
    {
     "name": "stderr",
     "output_type": "stream",
     "text": [
      "C:\\Users\\eveli\\Anaconda3\\lib\\site-packages\\pandas\\core\\ops.py:1649: FutureWarning: elementwise comparison failed; returning scalar instead, but in the future will perform elementwise comparison\n",
      "  result = method(y)\n"
     ]
    }
   ],
   "source": [
    "ds.iloc[:,:-1] = ds.iloc[:,:-1].apply(lambda x: x=='x').astype('int')\n",
    "X = ds.iloc[:,:-1]\n",
    "y = ds.iloc[:,-1:]"
   ]
  },
  {
   "cell_type": "code",
   "execution_count": 25,
   "metadata": {},
   "outputs": [],
   "source": [
    "#transformer_in = Normalizer().fit(df_input) \n",
    "#df_input = transformer_in.transform(df_input)"
   ]
  },
  {
   "cell_type": "code",
   "execution_count": 26,
   "metadata": {},
   "outputs": [],
   "source": [
    "#df_input = tf.keras.utils.normalize(df_input, axis=1)\n",
    "#df_output = tf.keras.utils.normalize(df_output, axis=1)"
   ]
  },
  {
   "cell_type": "markdown",
   "metadata": {},
   "source": [
    "## Step 2: Build Neural Network\n",
    "\n",
    "To build the neural network, you can refer to your own codes you wrote while following the [Deep Learning with Python, TensorFlow, and Keras tutorial](https://www.youtube.com/watch?v=wQ8BIBpya2k) in the lesson. It's pretty similar to what you will be doing in this lab.\n",
    "\n",
    "1. Split the training and test data.\n",
    "1. Create a `Sequential` model.\n",
    "1. Add several layers to your model. Make sure you use ReLU as the activation function for the middle layers. Use Softmax for the output layer because each output has a single lable and all the label probabilities add up to 1.\n",
    "1. Compile the model using `adam` as the optimizer and `sparse_categorical_crossentropy` as the loss function. For metrics, use `accuracy` for now.\n",
    "1. Fit the training data.\n",
    "1. Evaluate your neural network model with the test data.\n",
    "1. Save your model as `tic-tac-toe.model`."
   ]
  },
  {
   "cell_type": "code",
   "execution_count": 47,
   "metadata": {},
   "outputs": [],
   "source": [
    "#1\n",
    "X_train, X_test, y_train, y_test = train_test_split(X, y, test_size=0.2)"
   ]
  },
  {
   "cell_type": "code",
   "execution_count": 50,
   "metadata": {},
   "outputs": [
    {
     "name": "stdout",
     "output_type": "stream",
     "text": [
      "Epoch 1/5\n",
      "766/766 [==============================] - 0s 500us/step - loss: 0.6292 - accuracy: 0.6580\n",
      "Epoch 2/5\n",
      "766/766 [==============================] - 0s 132us/step - loss: 0.5718 - accuracy: 0.7037\n",
      "Epoch 3/5\n",
      "766/766 [==============================] - 0s 112us/step - loss: 0.5284 - accuracy: 0.7728\n",
      "Epoch 4/5\n",
      "766/766 [==============================] - 0s 105us/step - loss: 0.4948 - accuracy: 0.7911\n",
      "Epoch 5/5\n",
      "766/766 [==============================] - 0s 103us/step - loss: 0.4624 - accuracy: 0.8146\n",
      "192/192 [==============================] - 0s 423us/step\n"
     ]
    },
    {
     "data": {
      "text/plain": [
       "[0.4640296747287114, 0.8020833134651184]"
      ]
     },
     "execution_count": 50,
     "metadata": {},
     "output_type": "execute_result"
    }
   ],
   "source": [
    "#2\n",
    "# Build the model.\n",
    "model = Sequential([\n",
    "  Dense(64, activation='relu', input_shape=(9,)),\n",
    "  Dense(64, activation='relu'),\n",
    "  Dense(2, activation='softmax'),   ## Usually the softmax is the last one to compensate for the high volume additions\n",
    "])\n",
    "\n",
    "# Compile the model.\n",
    "model.compile(\n",
    "  optimizer='adam',\n",
    "  loss='categorical_crossentropy',\n",
    "  metrics=['accuracy'],\n",
    ")\n",
    "\n",
    "# Train the model.\n",
    "history = model.fit(\n",
    "  X_train,\n",
    "  to_categorical(y_train),\n",
    "  epochs=5,\n",
    "  batch_size=32,\n",
    ")\n",
    "\n",
    "# Evaluate the model.\n",
    "model.evaluate(\n",
    "  X_test,\n",
    "  to_categorical(y_test)\n",
    ")"
   ]
  },
  {
   "cell_type": "code",
   "execution_count": 51,
   "metadata": {},
   "outputs": [],
   "source": [
    "model.save_weights('tic-tac-toe.model')"
   ]
  },
  {
   "cell_type": "markdown",
   "metadata": {},
   "source": [
    "## Step 3: Make Predictions\n",
    "\n",
    "Now load your saved model and use it to make predictions on a few random rows in the test dataset. Check if the predictions are correct."
   ]
  },
  {
   "cell_type": "code",
   "execution_count": 75,
   "metadata": {},
   "outputs": [
    {
     "name": "stdout",
     "output_type": "stream",
     "text": [
      "[1 1 1 1 1 1 0 1 1 0]\n",
      "     class\n",
      "766  False\n",
      "527   True\n",
      "921  False\n",
      "622   True\n",
      "663  False\n",
      "111   True\n",
      "873  False\n",
      "104   True\n",
      "395   True\n",
      "829  False\n"
     ]
    }
   ],
   "source": [
    "# your code here\n",
    "\n",
    "predictions = model.predict(X_test[:10])\n",
    "\n",
    "# Print our model's predictions.\n",
    "print(np.argmax(predictions, axis=1)) \n",
    "\n",
    "# Check our predictions against the ground truths.\n",
    "print(y_test[:10]) "
   ]
  },
  {
   "cell_type": "markdown",
   "metadata": {},
   "source": [
    "## Step 4: Improve Your Model\n",
    "\n",
    "Did your model achieve low loss (<0.1) and high accuracy (>0.95)? If not, try to improve your model.\n",
    "\n",
    "But how? There are so many things you can play with in Tensorflow and in the next challenge you'll learn about these things. But in this challenge, let's just do a few things to see if they will help.\n",
    "\n",
    "* Add more layers to your model. If the data are complex you need more layers. But don't use more layers than you need. If adding more layers does not improve the model performance you don't need additional layers.\n",
    "* Adjust the learning rate when you compile the model. This means you will create a custom `tf.keras.optimizers.Adam` instance where you specify the learning rate you want. Then pass the instance to `model.compile` as the optimizer.\n",
    "    * `tf.keras.optimizers.Adam` [reference](https://www.tensorflow.org/api_docs/python/tf/keras/optimizers/Adam).\n",
    "    * Don't worry if you don't understand what the learning rate does. You'll learn about it in the next challenge.\n",
    "* Adjust the number of epochs when you fit the training data to the model. Your model performance continues to improve as you train more epochs. But eventually it will reach the ceiling and the performance will stay the same."
   ]
  },
  {
   "cell_type": "code",
   "execution_count": 88,
   "metadata": {},
   "outputs": [
    {
     "data": {
      "text/plain": [
       "<tensorflow.python.keras.optimizer_v2.adam.Adam at 0x178f88f3ef0>"
      ]
     },
     "execution_count": 88,
     "metadata": {},
     "output_type": "execute_result"
    }
   ],
   "source": [
    "optimizer = tf.keras.optimizers.Adam(learning_rate=0.001)\n",
    "optimizer"
   ]
  },
  {
   "cell_type": "code",
   "execution_count": 89,
   "metadata": {},
   "outputs": [
    {
     "name": "stdout",
     "output_type": "stream",
     "text": [
      "Epoch 1/5\n",
      "766/766 [==============================] - 0s 202us/step - loss: 0.6481 - accuracy: 0.6214\n",
      "Epoch 2/5\n",
      "766/766 [==============================] - 0s 86us/step - loss: 0.5867 - accuracy: 0.6880\n",
      "Epoch 3/5\n",
      "766/766 [==============================] - 0s 78us/step - loss: 0.5487 - accuracy: 0.7585\n",
      "Epoch 4/5\n",
      "766/766 [==============================] - 0s 64us/step - loss: 0.5169 - accuracy: 0.7742\n",
      "Epoch 5/5\n",
      "766/766 [==============================] - 0s 69us/step - loss: 0.4883 - accuracy: 0.7924\n",
      "192/192 [==============================] - 0s 473us/step\n"
     ]
    },
    {
     "data": {
      "text/plain": [
       "[0.4904511372248332, 0.7916666865348816]"
      ]
     },
     "execution_count": 89,
     "metadata": {},
     "output_type": "execute_result"
    }
   ],
   "source": [
    "#2\n",
    "# Build the model.\n",
    "model = Sequential([\n",
    "  Dense(64, activation='relu', input_shape=(9,)),\n",
    "  Dense(64, activation='relu'),\n",
    "  Dense(2, activation='softmax'),   ## Usually the softmax is the last one to compensate for the high volume additions\n",
    "])\n",
    "\n",
    "# Compile the model.\n",
    "model.compile(\n",
    "  optimizer=optimizer,\n",
    "  loss='categorical_crossentropy',\n",
    "  metrics=['accuracy'],\n",
    ")\n",
    "\n",
    "# Train the model.\n",
    "history = model.fit(\n",
    "  X_train,\n",
    "  to_categorical(y_train),\n",
    "  epochs=5,\n",
    "  batch_size=32,\n",
    ")\n",
    "\n",
    "# Evaluate the model.\n",
    "model.evaluate(\n",
    "  X_test,\n",
    "  to_categorical(y_test)\n",
    ")"
   ]
  },
  {
   "cell_type": "code",
   "execution_count": 90,
   "metadata": {},
   "outputs": [
    {
     "name": "stdout",
     "output_type": "stream",
     "text": [
      "Epoch 1/15\n",
      "766/766 [==============================] - 0s 544us/step - loss: 0.6530 - accuracy: 0.6070\n",
      "Epoch 2/15\n",
      "766/766 [==============================] - 0s 81us/step - loss: 0.5827 - accuracy: 0.6775\n",
      "Epoch 3/15\n",
      "766/766 [==============================] - 0s 130us/step - loss: 0.5475 - accuracy: 0.7585\n",
      "Epoch 4/15\n",
      "766/766 [==============================] - 0s 83us/step - loss: 0.5182 - accuracy: 0.7872\n",
      "Epoch 5/15\n",
      "766/766 [==============================] - 0s 92us/step - loss: 0.4865 - accuracy: 0.8107\n",
      "Epoch 6/15\n",
      "766/766 [==============================] - 0s 85us/step - loss: 0.4586 - accuracy: 0.8316\n",
      "Epoch 7/15\n",
      "766/766 [==============================] - 0s 82us/step - loss: 0.4254 - accuracy: 0.8538\n",
      "Epoch 8/15\n",
      "766/766 [==============================] - 0s 70us/step - loss: 0.3931 - accuracy: 0.8734\n",
      "Epoch 9/15\n",
      "766/766 [==============================] - 0s 82us/step - loss: 0.3540 - accuracy: 0.8864\n",
      "Epoch 10/15\n",
      "766/766 [==============================] - 0s 96us/step - loss: 0.3171 - accuracy: 0.8995\n",
      "Epoch 11/15\n",
      "766/766 [==============================] - 0s 107us/step - loss: 0.2798 - accuracy: 0.9086\n",
      "Epoch 12/15\n",
      "766/766 [==============================] - 0s 85us/step - loss: 0.2440 - accuracy: 0.9269\n",
      "Epoch 13/15\n",
      "766/766 [==============================] - 0s 79us/step - loss: 0.2107 - accuracy: 0.9334\n",
      "Epoch 14/15\n",
      "766/766 [==============================] - 0s 98us/step - loss: 0.1860 - accuracy: 0.9504\n",
      "Epoch 15/15\n",
      "766/766 [==============================] - 0s 134us/step - loss: 0.1519 - accuracy: 0.9700\n",
      "192/192 [==============================] - 0s 449us/step\n"
     ]
    },
    {
     "data": {
      "text/plain": [
       "[0.1587164799372355, 0.96875]"
      ]
     },
     "execution_count": 90,
     "metadata": {},
     "output_type": "execute_result"
    }
   ],
   "source": [
    "#2\n",
    "# Build the model.\n",
    "model = Sequential([\n",
    "  Dense(64, activation='relu', input_shape=(9,)),\n",
    "  Dense(64, activation='relu'),\n",
    "  Dense(2, activation='softmax'),   ## Usually the softmax is the last one to compensate for the high volume additions\n",
    "])\n",
    "\n",
    "# Compile the model.\n",
    "model.compile(\n",
    "  optimizer='adam',\n",
    "  loss='categorical_crossentropy',\n",
    "  metrics=['accuracy'],\n",
    ")\n",
    "\n",
    "# Train the model.\n",
    "history = model.fit(\n",
    "  X_train,\n",
    "  to_categorical(y_train),\n",
    "  epochs=15,\n",
    "  batch_size=32,\n",
    ")\n",
    "\n",
    "# Evaluate the model.\n",
    "model.evaluate(\n",
    "  X_test,\n",
    "  to_categorical(y_test)\n",
    ")"
   ]
  },
  {
   "cell_type": "markdown",
   "metadata": {},
   "source": [
    "**Which approach(es) did you find helpful to improve your model performance?**"
   ]
  },
  {
   "cell_type": "code",
   "execution_count": null,
   "metadata": {},
   "outputs": [],
   "source": [
    "# I guess combinging both methodes should work best?"
   ]
  }
 ],
 "metadata": {
  "kernelspec": {
   "display_name": "Python 3",
   "language": "python",
   "name": "python3"
  },
  "language_info": {
   "codemirror_mode": {
    "name": "ipython",
    "version": 3
   },
   "file_extension": ".py",
   "mimetype": "text/x-python",
   "name": "python",
   "nbconvert_exporter": "python",
   "pygments_lexer": "ipython3",
   "version": "3.7.3"
  }
 },
 "nbformat": 4,
 "nbformat_minor": 2
}
